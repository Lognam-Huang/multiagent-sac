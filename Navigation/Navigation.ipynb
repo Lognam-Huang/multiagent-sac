{
 "cells": [
  {
   "cell_type": "markdown",
   "metadata": {},
   "source": [
    "# Navigation\n",
    "\n",
    "---\n",
    "\n",
    "In this notebook, you will learn how to use the Unity ML-Agents environment for the first project of the [Deep Reinforcement Learning Nanodegree](https://www.udacity.com/course/deep-reinforcement-learning-nanodegree--nd893).\n",
    "\n",
    "### 1. Start the Environment\n",
    "\n",
    "We begin by importing some necessary packages.  If the code cell below returns an error, please revisit the project instructions to double-check that you have installed [Unity ML-Agents](https://github.com/Unity-Technologies/ml-agents/blob/master/docs/Installation.md) and [NumPy](http://www.numpy.org/)."
   ]
  },
  {
   "cell_type": "code",
   "execution_count": 1,
   "metadata": {},
   "outputs": [],
   "source": [
    "from unityagents import UnityEnvironment\n",
    "import numpy as np\n",
    "import random\n",
    "import torch\n",
    "import numpy as np\n",
    "from collections import deque\n",
    "import matplotlib.pyplot as plt\n",
    "%matplotlib inline"
   ]
  },
  {
   "cell_type": "markdown",
   "metadata": {},
   "source": [
    "Next, we will start the environment!  **_Before running the code cell below_**, change the `file_name` parameter to match the location of the Unity environment that you downloaded.\n",
    "\n",
    "- **Mac**: `\"path/to/Banana.app\"`\n",
    "- **Windows** (x86): `\"path/to/Banana_Windows_x86/Banana.exe\"`\n",
    "- **Windows** (x86_64): `\"path/to/Banana_Windows_x86_64/Banana.exe\"`\n",
    "- **Linux** (x86): `\"path/to/Banana_Linux/Banana.x86\"`\n",
    "- **Linux** (x86_64): `\"path/to/Banana_Linux/Banana.x86_64\"`\n",
    "- **Linux** (x86, headless): `\"path/to/Banana_Linux_NoVis/Banana.x86\"`\n",
    "- **Linux** (x86_64, headless): `\"path/to/Banana_Linux_NoVis/Banana.x86_64\"`\n",
    "\n",
    "For instance, if you are using a Mac, then you downloaded `Banana.app`.  If this file is in the same folder as the notebook, then the line below should appear as follows:\n",
    "```\n",
    "env = UnityEnvironment(file_name=\"Banana.app\")\n",
    "```"
   ]
  },
  {
   "cell_type": "code",
   "execution_count": 2,
   "metadata": {},
   "outputs": [
    {
     "output_type": "stream",
     "name": "stderr",
     "text": [
      "INFO:unityagents:\n'Academy' started successfully!\nUnity Academy name: Academy\n        Number of Brains: 1\n        Number of External Brains : 1\n        Lesson number : 0\n        Reset Parameters :\n\t\t\nUnity brain name: BananaBrain\n        Number of Visual Observations (per agent): 0\n        Vector Observation space type: continuous\n        Vector Observation space size (per agent): 37\n        Number of stacked Vector Observation: 1\n        Vector Action space type: discrete\n        Vector Action space size (per agent): 4\n        Vector Action descriptions: , , , \n"
     ]
    }
   ],
   "source": [
    "env = UnityEnvironment(file_name=\"Banana.app\")"
   ]
  },
  {
   "cell_type": "markdown",
   "metadata": {},
   "source": [
    "Environments contain **_brains_** which are responsible for deciding the actions of their associated agents. Here we check for the first brain available, and set it as the default brain we will be controlling from Python."
   ]
  },
  {
   "cell_type": "code",
   "execution_count": 4,
   "metadata": {},
   "outputs": [],
   "source": [
    "# get the default brain\n",
    "brain_name = env.brain_names[0]\n",
    "brain = env.brains[brain_name]"
   ]
  },
  {
   "cell_type": "markdown",
   "metadata": {},
   "source": [
    "### 2. Examine the State and Action Spaces\n",
    "\n",
    "The simulation contains a single agent that navigates a large environment.  At each time step, it has four actions at its disposal:\n",
    "- `0` - walk forward \n",
    "- `1` - walk backward\n",
    "- `2` - turn left\n",
    "- `3` - turn right\n",
    "\n",
    "The state space has `37` dimensions and contains the agent's velocity, along with ray-based perception of objects around agent's forward direction.  A reward of `+1` is provided for collecting a yellow banana, and a reward of `-1` is provided for collecting a blue banana. \n",
    "\n",
    "Run the code cell below to print some information about the environment."
   ]
  },
  {
   "cell_type": "markdown",
   "metadata": {},
   "source": [
    "When finished, you can close the environment."
   ]
  },
  {
   "cell_type": "code",
   "execution_count": 5,
   "metadata": {},
   "outputs": [
    {
     "output_type": "stream",
     "name": "stdout",
     "text": [
      "Number of agents: 1\nNumber of actions: 4\nStates look like: [1.         0.         0.         0.         0.84408134 0.\n 0.         1.         0.         0.0748472  0.         1.\n 0.         0.         0.25755    1.         0.         0.\n 0.         0.74177343 0.         1.         0.         0.\n 0.25854847 0.         0.         1.         0.         0.09355672\n 0.         1.         0.         0.         0.31969345 0.\n 0.        ]\nStates have length: 37\n"
     ]
    }
   ],
   "source": [
    "# reset the environment\n",
    "env_info = env.reset(train_mode=True)[brain_name]\n",
    "\n",
    "# number of agents in the environment\n",
    "print('Number of agents:', len(env_info.agents))\n",
    "\n",
    "# number of actions\n",
    "action_size = brain.vector_action_space_size\n",
    "print('Number of actions:', action_size)\n",
    "\n",
    "# examine the state space \n",
    "state = env_info.vector_observations[0]\n",
    "print('States look like:', state)\n",
    "state_size = len(state)\n",
    "print('States have length:', state_size)"
   ]
  },
  {
   "cell_type": "markdown",
   "metadata": {},
   "source": [
    "### 3. Take Random Actions in the Environment\n",
    "\n",
    "In the next code cell, you will learn how to use the Python API to control the agent and receive feedback from the environment.\n",
    "\n",
    "Once this cell is executed, you will watch the agent's performance, if it selects an action (uniformly) at random with each time step.  A window should pop up that allows you to observe the agent, as it moves through the environment.  \n",
    "\n",
    "Of course, as part of the project, you'll have to change the code so that the agent is able to use its experience to gradually choose better actions when interacting with the environment!"
   ]
  },
  {
   "cell_type": "code",
   "execution_count": 7,
   "metadata": {},
   "outputs": [
    {
     "output_type": "stream",
     "name": "stdout",
     "text": [
      "Score: 1.0\n"
     ]
    }
   ],
   "source": [
    "env_info = env.reset(train_mode=False)[brain_name] # reset the environment\n",
    "state = env_info.vector_observations[0]            # get the current state\n",
    "score = 0                                          # initialize the score\n",
    "while True:\n",
    "    action = np.random.randint(action_size)        # select an action\n",
    "    env_info = env.step(action)[brain_name]        # send the action to the environment\n",
    "    next_state = env_info.vector_observations[0]   # get the next state\n",
    "    reward = env_info.rewards[0]                   # get the reward\n",
    "    done = env_info.local_done[0]                  # see if episode has finished\n",
    "    score += reward                                # update the score\n",
    "    state = next_state                             # roll over the state to next time step\n",
    "    if done:                                       # exit loop if episode finished\n",
    "        break\n",
    "    \n",
    "print(\"Score: {}\".format(score))"
   ]
  },
  {
   "cell_type": "code",
   "execution_count": 8,
   "metadata": {},
   "outputs": [],
   "source": [
    "env.close()"
   ]
  },
  {
   "cell_type": "markdown",
   "metadata": {},
   "source": [
    "### 4. It's Your Turn!\n",
    "\n",
    "Now it's your turn to train your own agent to solve the environment!  When training the environment, set `train_mode=True`, so that the line for resetting the environment looks like the following:\n",
    "```python\n",
    "env_info = env.reset(train_mode=True)[brain_name]\n",
    "```"
   ]
  },
  {
   "cell_type": "code",
   "execution_count": null,
   "metadata": {},
   "outputs": [],
   "source": []
  },
  {
   "cell_type": "code",
   "execution_count": 3,
   "metadata": {},
   "outputs": [
    {
     "output_type": "stream",
     "name": "stderr",
     "text": [
      "INFO:unityagents:\n'Academy' started successfully!\nUnity Academy name: Academy\n        Number of Brains: 1\n        Number of External Brains : 1\n        Lesson number : 0\n        Reset Parameters :\n\t\t\nUnity brain name: BananaBrain\n        Number of Visual Observations (per agent): 0\n        Vector Observation space type: continuous\n        Vector Observation space size (per agent): 37\n        Number of stacked Vector Observation: 1\n        Vector Action space type: discrete\n        Vector Action space size (per agent): 4\n        Vector Action descriptions: , , , \n"
     ]
    }
   ],
   "source": [
    "from dqn_agent import Agent\n",
    "env = UnityEnvironment(file_name=\"Banana.app\")\n",
    "brain_name = env.brain_names[0]\n",
    "brain = env.brains[brain_name]\n",
    "\n",
    "agent = Agent(state_size=37, action_size=4, seed=0)\n",
    "\n",
    "# watch an untrained agent\n",
    "env_info = env.reset(train_mode=False)[brain_name]\n",
    "state = env_info.vector_observations[0]\n",
    "score = 0\n",
    "for j in range(200):\n",
    "    action = agent.act(state)\n",
    "    env_info = env.step(action)[brain_name]\n",
    "    next_state = env_info.vector_observations[0]   # get \n",
    "    reward = env_info.rewards[0]                   # get \n",
    "    done = env_info.local_done[0]                  # see \n",
    "    score += reward  \n",
    "    state = next_state         \n",
    "    if done:\n",
    "        break \n",
    "        \n",
    "env.close()"
   ]
  },
  {
   "cell_type": "code",
   "execution_count": 2,
   "metadata": {},
   "outputs": [
    {
     "output_type": "stream",
     "name": "stderr",
     "text": [
      "INFO:unityagents:\n",
      "'Academy' started successfully!\n",
      "Unity Academy name: Academy\n",
      "        Number of Brains: 1\n",
      "        Number of External Brains : 1\n",
      "        Lesson number : 0\n",
      "        Reset Parameters :\n",
      "\t\t\n",
      "Unity brain name: BananaBrain\n",
      "        Number of Visual Observations (per agent): 0\n",
      "        Vector Observation space type: continuous\n",
      "        Vector Observation space size (per agent): 37\n",
      "        Number of stacked Vector Observation: 1\n",
      "        Vector Action space type: discrete\n",
      "        Vector Action space size (per agent): 4\n",
      "        Vector Action descriptions: , , , \n",
      "Episode 100\tAverage Score: 0.56\n",
      "Episode 200\tAverage Score: 3.80\n",
      "Episode 300\tAverage Score: 7.76\n",
      "Episode 400\tAverage Score: 9.81\n",
      "Episode 500\tAverage Score: 12.99\n",
      "Episode 600\tAverage Score: 14.48\n",
      "Episode 700\tAverage Score: 14.43\n",
      "Episode 800\tAverage Score: 14.78\n",
      "Episode 900\tAverage Score: 15.88\n",
      "Episode 902\tAverage Score: 16.00\n",
      "Environment solved in 802 episodes!\tAverage Score: 16.00\n"
     ]
    },
    {
     "output_type": "display_data",
     "data": {
      "text/plain": "<Figure size 432x288 with 1 Axes>",
      "image/svg+xml": "<?xml version=\"1.0\" encoding=\"utf-8\" standalone=\"no\"?>\n<!DOCTYPE svg PUBLIC \"-//W3C//DTD SVG 1.1//EN\"\n  \"http://www.w3.org/Graphics/SVG/1.1/DTD/svg11.dtd\">\n<!-- Created with matplotlib (https://matplotlib.org/) -->\n<svg height=\"262.19625pt\" version=\"1.1\" viewBox=\"0 0 382.603125 262.19625\" width=\"382.603125pt\" xmlns=\"http://www.w3.org/2000/svg\" xmlns:xlink=\"http://www.w3.org/1999/xlink\">\n <metadata>\n  <rdf:RDF xmlns:cc=\"http://creativecommons.org/ns#\" xmlns:dc=\"http://purl.org/dc/elements/1.1/\" xmlns:rdf=\"http://www.w3.org/1999/02/22-rdf-syntax-ns#\">\n   <cc:Work>\n    <dc:type rdf:resource=\"http://purl.org/dc/dcmitype/StillImage\"/>\n    <dc:date>2021-01-05T11:59:21.917129</dc:date>\n    <dc:format>image/svg+xml</dc:format>\n    <dc:creator>\n     <cc:Agent>\n      <dc:title>Matplotlib v3.3.3, https://matplotlib.org/</dc:title>\n     </cc:Agent>\n    </dc:creator>\n   </cc:Work>\n  </rdf:RDF>\n </metadata>\n <defs>\n  <style type=\"text/css\">*{stroke-linecap:butt;stroke-linejoin:round;}</style>\n </defs>\n <g id=\"figure_1\">\n  <g id=\"patch_1\">\n   <path d=\"M 0 262.19625 \nL 382.603125 262.19625 \nL 382.603125 0 \nL 0 0 \nz\n\" style=\"fill:none;\"/>\n  </g>\n  <g id=\"axes_1\">\n   <g id=\"patch_2\">\n    <path d=\"M 40.603125 224.64 \nL 375.403125 224.64 \nL 375.403125 7.2 \nL 40.603125 7.2 \nz\n\" style=\"fill:#ffffff;\"/>\n   </g>\n   <g id=\"matplotlib.axis_1\">\n    <g id=\"xtick_1\">\n     <g id=\"line2d_1\">\n      <defs>\n       <path d=\"M 0 0 \nL 0 3.5 \n\" id=\"macd9861742\" style=\"stroke:#000000;stroke-width:0.8;\"/>\n      </defs>\n      <g>\n       <use style=\"stroke:#000000;stroke-width:0.8;\" x=\"55.821307\" xlink:href=\"#macd9861742\" y=\"224.64\"/>\n      </g>\n     </g>\n     <g id=\"text_1\">\n      <!-- 0 -->\n      <g transform=\"translate(52.640057 239.238437)scale(0.1 -0.1)\">\n       <defs>\n        <path d=\"M 31.78125 66.40625 \nQ 24.171875 66.40625 20.328125 58.90625 \nQ 16.5 51.421875 16.5 36.375 \nQ 16.5 21.390625 20.328125 13.890625 \nQ 24.171875 6.390625 31.78125 6.390625 \nQ 39.453125 6.390625 43.28125 13.890625 \nQ 47.125 21.390625 47.125 36.375 \nQ 47.125 51.421875 43.28125 58.90625 \nQ 39.453125 66.40625 31.78125 66.40625 \nz\nM 31.78125 74.21875 \nQ 44.046875 74.21875 50.515625 64.515625 \nQ 56.984375 54.828125 56.984375 36.375 \nQ 56.984375 17.96875 50.515625 8.265625 \nQ 44.046875 -1.421875 31.78125 -1.421875 \nQ 19.53125 -1.421875 13.0625 8.265625 \nQ 6.59375 17.96875 6.59375 36.375 \nQ 6.59375 54.828125 13.0625 64.515625 \nQ 19.53125 74.21875 31.78125 74.21875 \nz\n\" id=\"DejaVuSans-48\"/>\n       </defs>\n       <use xlink:href=\"#DejaVuSans-48\"/>\n      </g>\n     </g>\n    </g>\n    <g id=\"xtick_2\">\n     <g id=\"line2d_2\">\n      <g>\n       <use style=\"stroke:#000000;stroke-width:0.8;\" x=\"123.382602\" xlink:href=\"#macd9861742\" y=\"224.64\"/>\n      </g>\n     </g>\n     <g id=\"text_2\">\n      <!-- 200 -->\n      <g transform=\"translate(113.838852 239.238437)scale(0.1 -0.1)\">\n       <defs>\n        <path d=\"M 19.1875 8.296875 \nL 53.609375 8.296875 \nL 53.609375 0 \nL 7.328125 0 \nL 7.328125 8.296875 \nQ 12.9375 14.109375 22.625 23.890625 \nQ 32.328125 33.6875 34.8125 36.53125 \nQ 39.546875 41.84375 41.421875 45.53125 \nQ 43.3125 49.21875 43.3125 52.78125 \nQ 43.3125 58.59375 39.234375 62.25 \nQ 35.15625 65.921875 28.609375 65.921875 \nQ 23.96875 65.921875 18.8125 64.3125 \nQ 13.671875 62.703125 7.8125 59.421875 \nL 7.8125 69.390625 \nQ 13.765625 71.78125 18.9375 73 \nQ 24.125 74.21875 28.421875 74.21875 \nQ 39.75 74.21875 46.484375 68.546875 \nQ 53.21875 62.890625 53.21875 53.421875 \nQ 53.21875 48.921875 51.53125 44.890625 \nQ 49.859375 40.875 45.40625 35.40625 \nQ 44.1875 33.984375 37.640625 27.21875 \nQ 31.109375 20.453125 19.1875 8.296875 \nz\n\" id=\"DejaVuSans-50\"/>\n       </defs>\n       <use xlink:href=\"#DejaVuSans-50\"/>\n       <use x=\"63.623047\" xlink:href=\"#DejaVuSans-48\"/>\n       <use x=\"127.246094\" xlink:href=\"#DejaVuSans-48\"/>\n      </g>\n     </g>\n    </g>\n    <g id=\"xtick_3\">\n     <g id=\"line2d_3\">\n      <g>\n       <use style=\"stroke:#000000;stroke-width:0.8;\" x=\"190.943898\" xlink:href=\"#macd9861742\" y=\"224.64\"/>\n      </g>\n     </g>\n     <g id=\"text_3\">\n      <!-- 400 -->\n      <g transform=\"translate(181.400148 239.238437)scale(0.1 -0.1)\">\n       <defs>\n        <path d=\"M 37.796875 64.3125 \nL 12.890625 25.390625 \nL 37.796875 25.390625 \nz\nM 35.203125 72.90625 \nL 47.609375 72.90625 \nL 47.609375 25.390625 \nL 58.015625 25.390625 \nL 58.015625 17.1875 \nL 47.609375 17.1875 \nL 47.609375 0 \nL 37.796875 0 \nL 37.796875 17.1875 \nL 4.890625 17.1875 \nL 4.890625 26.703125 \nz\n\" id=\"DejaVuSans-52\"/>\n       </defs>\n       <use xlink:href=\"#DejaVuSans-52\"/>\n       <use x=\"63.623047\" xlink:href=\"#DejaVuSans-48\"/>\n       <use x=\"127.246094\" xlink:href=\"#DejaVuSans-48\"/>\n      </g>\n     </g>\n    </g>\n    <g id=\"xtick_4\">\n     <g id=\"line2d_4\">\n      <g>\n       <use style=\"stroke:#000000;stroke-width:0.8;\" x=\"258.505193\" xlink:href=\"#macd9861742\" y=\"224.64\"/>\n      </g>\n     </g>\n     <g id=\"text_4\">\n      <!-- 600 -->\n      <g transform=\"translate(248.961443 239.238437)scale(0.1 -0.1)\">\n       <defs>\n        <path d=\"M 33.015625 40.375 \nQ 26.375 40.375 22.484375 35.828125 \nQ 18.609375 31.296875 18.609375 23.390625 \nQ 18.609375 15.53125 22.484375 10.953125 \nQ 26.375 6.390625 33.015625 6.390625 \nQ 39.65625 6.390625 43.53125 10.953125 \nQ 47.40625 15.53125 47.40625 23.390625 \nQ 47.40625 31.296875 43.53125 35.828125 \nQ 39.65625 40.375 33.015625 40.375 \nz\nM 52.59375 71.296875 \nL 52.59375 62.3125 \nQ 48.875 64.0625 45.09375 64.984375 \nQ 41.3125 65.921875 37.59375 65.921875 \nQ 27.828125 65.921875 22.671875 59.328125 \nQ 17.53125 52.734375 16.796875 39.40625 \nQ 19.671875 43.65625 24.015625 45.921875 \nQ 28.375 48.1875 33.59375 48.1875 \nQ 44.578125 48.1875 50.953125 41.515625 \nQ 57.328125 34.859375 57.328125 23.390625 \nQ 57.328125 12.15625 50.6875 5.359375 \nQ 44.046875 -1.421875 33.015625 -1.421875 \nQ 20.359375 -1.421875 13.671875 8.265625 \nQ 6.984375 17.96875 6.984375 36.375 \nQ 6.984375 53.65625 15.1875 63.9375 \nQ 23.390625 74.21875 37.203125 74.21875 \nQ 40.921875 74.21875 44.703125 73.484375 \nQ 48.484375 72.75 52.59375 71.296875 \nz\n\" id=\"DejaVuSans-54\"/>\n       </defs>\n       <use xlink:href=\"#DejaVuSans-54\"/>\n       <use x=\"63.623047\" xlink:href=\"#DejaVuSans-48\"/>\n       <use x=\"127.246094\" xlink:href=\"#DejaVuSans-48\"/>\n      </g>\n     </g>\n    </g>\n    <g id=\"xtick_5\">\n     <g id=\"line2d_5\">\n      <g>\n       <use style=\"stroke:#000000;stroke-width:0.8;\" x=\"326.066489\" xlink:href=\"#macd9861742\" y=\"224.64\"/>\n      </g>\n     </g>\n     <g id=\"text_5\">\n      <!-- 800 -->\n      <g transform=\"translate(316.522739 239.238437)scale(0.1 -0.1)\">\n       <defs>\n        <path d=\"M 31.78125 34.625 \nQ 24.75 34.625 20.71875 30.859375 \nQ 16.703125 27.09375 16.703125 20.515625 \nQ 16.703125 13.921875 20.71875 10.15625 \nQ 24.75 6.390625 31.78125 6.390625 \nQ 38.8125 6.390625 42.859375 10.171875 \nQ 46.921875 13.96875 46.921875 20.515625 \nQ 46.921875 27.09375 42.890625 30.859375 \nQ 38.875 34.625 31.78125 34.625 \nz\nM 21.921875 38.8125 \nQ 15.578125 40.375 12.03125 44.71875 \nQ 8.5 49.078125 8.5 55.328125 \nQ 8.5 64.0625 14.71875 69.140625 \nQ 20.953125 74.21875 31.78125 74.21875 \nQ 42.671875 74.21875 48.875 69.140625 \nQ 55.078125 64.0625 55.078125 55.328125 \nQ 55.078125 49.078125 51.53125 44.71875 \nQ 48 40.375 41.703125 38.8125 \nQ 48.828125 37.15625 52.796875 32.3125 \nQ 56.78125 27.484375 56.78125 20.515625 \nQ 56.78125 9.90625 50.3125 4.234375 \nQ 43.84375 -1.421875 31.78125 -1.421875 \nQ 19.734375 -1.421875 13.25 4.234375 \nQ 6.78125 9.90625 6.78125 20.515625 \nQ 6.78125 27.484375 10.78125 32.3125 \nQ 14.796875 37.15625 21.921875 38.8125 \nz\nM 18.3125 54.390625 \nQ 18.3125 48.734375 21.84375 45.5625 \nQ 25.390625 42.390625 31.78125 42.390625 \nQ 38.140625 42.390625 41.71875 45.5625 \nQ 45.3125 48.734375 45.3125 54.390625 \nQ 45.3125 60.0625 41.71875 63.234375 \nQ 38.140625 66.40625 31.78125 66.40625 \nQ 25.390625 66.40625 21.84375 63.234375 \nQ 18.3125 60.0625 18.3125 54.390625 \nz\n\" id=\"DejaVuSans-56\"/>\n       </defs>\n       <use xlink:href=\"#DejaVuSans-56\"/>\n       <use x=\"63.623047\" xlink:href=\"#DejaVuSans-48\"/>\n       <use x=\"127.246094\" xlink:href=\"#DejaVuSans-48\"/>\n      </g>\n     </g>\n    </g>\n    <g id=\"text_6\">\n     <!-- Episode # -->\n     <g transform=\"translate(182.586719 252.916562)scale(0.1 -0.1)\">\n      <defs>\n       <path d=\"M 9.8125 72.90625 \nL 55.90625 72.90625 \nL 55.90625 64.59375 \nL 19.671875 64.59375 \nL 19.671875 43.015625 \nL 54.390625 43.015625 \nL 54.390625 34.71875 \nL 19.671875 34.71875 \nL 19.671875 8.296875 \nL 56.78125 8.296875 \nL 56.78125 0 \nL 9.8125 0 \nz\n\" id=\"DejaVuSans-69\"/>\n       <path d=\"M 18.109375 8.203125 \nL 18.109375 -20.796875 \nL 9.078125 -20.796875 \nL 9.078125 54.6875 \nL 18.109375 54.6875 \nL 18.109375 46.390625 \nQ 20.953125 51.265625 25.265625 53.625 \nQ 29.59375 56 35.59375 56 \nQ 45.5625 56 51.78125 48.09375 \nQ 58.015625 40.1875 58.015625 27.296875 \nQ 58.015625 14.40625 51.78125 6.484375 \nQ 45.5625 -1.421875 35.59375 -1.421875 \nQ 29.59375 -1.421875 25.265625 0.953125 \nQ 20.953125 3.328125 18.109375 8.203125 \nz\nM 48.6875 27.296875 \nQ 48.6875 37.203125 44.609375 42.84375 \nQ 40.53125 48.484375 33.40625 48.484375 \nQ 26.265625 48.484375 22.1875 42.84375 \nQ 18.109375 37.203125 18.109375 27.296875 \nQ 18.109375 17.390625 22.1875 11.75 \nQ 26.265625 6.109375 33.40625 6.109375 \nQ 40.53125 6.109375 44.609375 11.75 \nQ 48.6875 17.390625 48.6875 27.296875 \nz\n\" id=\"DejaVuSans-112\"/>\n       <path d=\"M 9.421875 54.6875 \nL 18.40625 54.6875 \nL 18.40625 0 \nL 9.421875 0 \nz\nM 9.421875 75.984375 \nL 18.40625 75.984375 \nL 18.40625 64.59375 \nL 9.421875 64.59375 \nz\n\" id=\"DejaVuSans-105\"/>\n       <path d=\"M 44.28125 53.078125 \nL 44.28125 44.578125 \nQ 40.484375 46.53125 36.375 47.5 \nQ 32.28125 48.484375 27.875 48.484375 \nQ 21.1875 48.484375 17.84375 46.4375 \nQ 14.5 44.390625 14.5 40.28125 \nQ 14.5 37.15625 16.890625 35.375 \nQ 19.28125 33.59375 26.515625 31.984375 \nL 29.59375 31.296875 \nQ 39.15625 29.25 43.1875 25.515625 \nQ 47.21875 21.78125 47.21875 15.09375 \nQ 47.21875 7.46875 41.1875 3.015625 \nQ 35.15625 -1.421875 24.609375 -1.421875 \nQ 20.21875 -1.421875 15.453125 -0.5625 \nQ 10.6875 0.296875 5.421875 2 \nL 5.421875 11.28125 \nQ 10.40625 8.6875 15.234375 7.390625 \nQ 20.0625 6.109375 24.8125 6.109375 \nQ 31.15625 6.109375 34.5625 8.28125 \nQ 37.984375 10.453125 37.984375 14.40625 \nQ 37.984375 18.0625 35.515625 20.015625 \nQ 33.0625 21.96875 24.703125 23.78125 \nL 21.578125 24.515625 \nQ 13.234375 26.265625 9.515625 29.90625 \nQ 5.8125 33.546875 5.8125 39.890625 \nQ 5.8125 47.609375 11.28125 51.796875 \nQ 16.75 56 26.8125 56 \nQ 31.78125 56 36.171875 55.265625 \nQ 40.578125 54.546875 44.28125 53.078125 \nz\n\" id=\"DejaVuSans-115\"/>\n       <path d=\"M 30.609375 48.390625 \nQ 23.390625 48.390625 19.1875 42.75 \nQ 14.984375 37.109375 14.984375 27.296875 \nQ 14.984375 17.484375 19.15625 11.84375 \nQ 23.34375 6.203125 30.609375 6.203125 \nQ 37.796875 6.203125 41.984375 11.859375 \nQ 46.1875 17.53125 46.1875 27.296875 \nQ 46.1875 37.015625 41.984375 42.703125 \nQ 37.796875 48.390625 30.609375 48.390625 \nz\nM 30.609375 56 \nQ 42.328125 56 49.015625 48.375 \nQ 55.71875 40.765625 55.71875 27.296875 \nQ 55.71875 13.875 49.015625 6.21875 \nQ 42.328125 -1.421875 30.609375 -1.421875 \nQ 18.84375 -1.421875 12.171875 6.21875 \nQ 5.515625 13.875 5.515625 27.296875 \nQ 5.515625 40.765625 12.171875 48.375 \nQ 18.84375 56 30.609375 56 \nz\n\" id=\"DejaVuSans-111\"/>\n       <path d=\"M 45.40625 46.390625 \nL 45.40625 75.984375 \nL 54.390625 75.984375 \nL 54.390625 0 \nL 45.40625 0 \nL 45.40625 8.203125 \nQ 42.578125 3.328125 38.25 0.953125 \nQ 33.9375 -1.421875 27.875 -1.421875 \nQ 17.96875 -1.421875 11.734375 6.484375 \nQ 5.515625 14.40625 5.515625 27.296875 \nQ 5.515625 40.1875 11.734375 48.09375 \nQ 17.96875 56 27.875 56 \nQ 33.9375 56 38.25 53.625 \nQ 42.578125 51.265625 45.40625 46.390625 \nz\nM 14.796875 27.296875 \nQ 14.796875 17.390625 18.875 11.75 \nQ 22.953125 6.109375 30.078125 6.109375 \nQ 37.203125 6.109375 41.296875 11.75 \nQ 45.40625 17.390625 45.40625 27.296875 \nQ 45.40625 37.203125 41.296875 42.84375 \nQ 37.203125 48.484375 30.078125 48.484375 \nQ 22.953125 48.484375 18.875 42.84375 \nQ 14.796875 37.203125 14.796875 27.296875 \nz\n\" id=\"DejaVuSans-100\"/>\n       <path d=\"M 56.203125 29.59375 \nL 56.203125 25.203125 \nL 14.890625 25.203125 \nQ 15.484375 15.921875 20.484375 11.0625 \nQ 25.484375 6.203125 34.421875 6.203125 \nQ 39.59375 6.203125 44.453125 7.46875 \nQ 49.3125 8.734375 54.109375 11.28125 \nL 54.109375 2.78125 \nQ 49.265625 0.734375 44.1875 -0.34375 \nQ 39.109375 -1.421875 33.890625 -1.421875 \nQ 20.796875 -1.421875 13.15625 6.1875 \nQ 5.515625 13.8125 5.515625 26.8125 \nQ 5.515625 40.234375 12.765625 48.109375 \nQ 20.015625 56 32.328125 56 \nQ 43.359375 56 49.78125 48.890625 \nQ 56.203125 41.796875 56.203125 29.59375 \nz\nM 47.21875 32.234375 \nQ 47.125 39.59375 43.09375 43.984375 \nQ 39.0625 48.390625 32.421875 48.390625 \nQ 24.90625 48.390625 20.390625 44.140625 \nQ 15.875 39.890625 15.1875 32.171875 \nz\n\" id=\"DejaVuSans-101\"/>\n       <path id=\"DejaVuSans-32\"/>\n       <path d=\"M 51.125 44 \nL 36.921875 44 \nL 32.8125 27.6875 \nL 47.125 27.6875 \nz\nM 43.796875 71.78125 \nL 38.71875 51.515625 \nL 52.984375 51.515625 \nL 58.109375 71.78125 \nL 65.921875 71.78125 \nL 60.890625 51.515625 \nL 76.125 51.515625 \nL 76.125 44 \nL 58.984375 44 \nL 54.984375 27.6875 \nL 70.515625 27.6875 \nL 70.515625 20.21875 \nL 53.078125 20.21875 \nL 48 0 \nL 40.1875 0 \nL 45.21875 20.21875 \nL 30.90625 20.21875 \nL 25.875 0 \nL 18.015625 0 \nL 23.09375 20.21875 \nL 7.71875 20.21875 \nL 7.71875 27.6875 \nL 24.90625 27.6875 \nL 29 44 \nL 13.28125 44 \nL 13.28125 51.515625 \nL 30.90625 51.515625 \nL 35.890625 71.78125 \nz\n\" id=\"DejaVuSans-35\"/>\n      </defs>\n      <use xlink:href=\"#DejaVuSans-69\"/>\n      <use x=\"63.183594\" xlink:href=\"#DejaVuSans-112\"/>\n      <use x=\"126.660156\" xlink:href=\"#DejaVuSans-105\"/>\n      <use x=\"154.443359\" xlink:href=\"#DejaVuSans-115\"/>\n      <use x=\"206.542969\" xlink:href=\"#DejaVuSans-111\"/>\n      <use x=\"267.724609\" xlink:href=\"#DejaVuSans-100\"/>\n      <use x=\"331.201172\" xlink:href=\"#DejaVuSans-101\"/>\n      <use x=\"392.724609\" xlink:href=\"#DejaVuSans-32\"/>\n      <use x=\"424.511719\" xlink:href=\"#DejaVuSans-35\"/>\n     </g>\n    </g>\n   </g>\n   <g id=\"matplotlib.axis_2\">\n    <g id=\"ytick_1\">\n     <g id=\"line2d_6\">\n      <defs>\n       <path d=\"M 0 0 \nL -3.5 0 \n\" id=\"m4f1b15dfd5\" style=\"stroke:#000000;stroke-width:0.8;\"/>\n      </defs>\n      <g>\n       <use style=\"stroke:#000000;stroke-width:0.8;\" x=\"40.603125\" xlink:href=\"#m4f1b15dfd5\" y=\"193.577143\"/>\n      </g>\n     </g>\n     <g id=\"text_7\">\n      <!-- 0 -->\n      <g transform=\"translate(27.240625 197.376362)scale(0.1 -0.1)\">\n       <use xlink:href=\"#DejaVuSans-48\"/>\n      </g>\n     </g>\n    </g>\n    <g id=\"ytick_2\">\n     <g id=\"line2d_7\">\n      <g>\n       <use style=\"stroke:#000000;stroke-width:0.8;\" x=\"40.603125\" xlink:href=\"#m4f1b15dfd5\" y=\"158.278442\"/>\n      </g>\n     </g>\n     <g id=\"text_8\">\n      <!-- 5 -->\n      <g transform=\"translate(27.240625 162.07766)scale(0.1 -0.1)\">\n       <defs>\n        <path d=\"M 10.796875 72.90625 \nL 49.515625 72.90625 \nL 49.515625 64.59375 \nL 19.828125 64.59375 \nL 19.828125 46.734375 \nQ 21.96875 47.46875 24.109375 47.828125 \nQ 26.265625 48.1875 28.421875 48.1875 \nQ 40.625 48.1875 47.75 41.5 \nQ 54.890625 34.8125 54.890625 23.390625 \nQ 54.890625 11.625 47.5625 5.09375 \nQ 40.234375 -1.421875 26.90625 -1.421875 \nQ 22.3125 -1.421875 17.546875 -0.640625 \nQ 12.796875 0.140625 7.71875 1.703125 \nL 7.71875 11.625 \nQ 12.109375 9.234375 16.796875 8.0625 \nQ 21.484375 6.890625 26.703125 6.890625 \nQ 35.15625 6.890625 40.078125 11.328125 \nQ 45.015625 15.765625 45.015625 23.390625 \nQ 45.015625 31 40.078125 35.4375 \nQ 35.15625 39.890625 26.703125 39.890625 \nQ 22.75 39.890625 18.8125 39.015625 \nQ 14.890625 38.140625 10.796875 36.28125 \nz\n\" id=\"DejaVuSans-53\"/>\n       </defs>\n       <use xlink:href=\"#DejaVuSans-53\"/>\n      </g>\n     </g>\n    </g>\n    <g id=\"ytick_3\">\n     <g id=\"line2d_8\">\n      <g>\n       <use style=\"stroke:#000000;stroke-width:0.8;\" x=\"40.603125\" xlink:href=\"#m4f1b15dfd5\" y=\"122.97974\"/>\n      </g>\n     </g>\n     <g id=\"text_9\">\n      <!-- 10 -->\n      <g transform=\"translate(20.878125 126.778959)scale(0.1 -0.1)\">\n       <defs>\n        <path d=\"M 12.40625 8.296875 \nL 28.515625 8.296875 \nL 28.515625 63.921875 \nL 10.984375 60.40625 \nL 10.984375 69.390625 \nL 28.421875 72.90625 \nL 38.28125 72.90625 \nL 38.28125 8.296875 \nL 54.390625 8.296875 \nL 54.390625 0 \nL 12.40625 0 \nz\n\" id=\"DejaVuSans-49\"/>\n       </defs>\n       <use xlink:href=\"#DejaVuSans-49\"/>\n       <use x=\"63.623047\" xlink:href=\"#DejaVuSans-48\"/>\n      </g>\n     </g>\n    </g>\n    <g id=\"ytick_4\">\n     <g id=\"line2d_9\">\n      <g>\n       <use style=\"stroke:#000000;stroke-width:0.8;\" x=\"40.603125\" xlink:href=\"#m4f1b15dfd5\" y=\"87.681039\"/>\n      </g>\n     </g>\n     <g id=\"text_10\">\n      <!-- 15 -->\n      <g transform=\"translate(20.878125 91.480258)scale(0.1 -0.1)\">\n       <use xlink:href=\"#DejaVuSans-49\"/>\n       <use x=\"63.623047\" xlink:href=\"#DejaVuSans-53\"/>\n      </g>\n     </g>\n    </g>\n    <g id=\"ytick_5\">\n     <g id=\"line2d_10\">\n      <g>\n       <use style=\"stroke:#000000;stroke-width:0.8;\" x=\"40.603125\" xlink:href=\"#m4f1b15dfd5\" y=\"52.382338\"/>\n      </g>\n     </g>\n     <g id=\"text_11\">\n      <!-- 20 -->\n      <g transform=\"translate(20.878125 56.181556)scale(0.1 -0.1)\">\n       <use xlink:href=\"#DejaVuSans-50\"/>\n       <use x=\"63.623047\" xlink:href=\"#DejaVuSans-48\"/>\n      </g>\n     </g>\n    </g>\n    <g id=\"ytick_6\">\n     <g id=\"line2d_11\">\n      <g>\n       <use style=\"stroke:#000000;stroke-width:0.8;\" x=\"40.603125\" xlink:href=\"#m4f1b15dfd5\" y=\"17.083636\"/>\n      </g>\n     </g>\n     <g id=\"text_12\">\n      <!-- 25 -->\n      <g transform=\"translate(20.878125 20.882855)scale(0.1 -0.1)\">\n       <use xlink:href=\"#DejaVuSans-50\"/>\n       <use x=\"63.623047\" xlink:href=\"#DejaVuSans-53\"/>\n      </g>\n     </g>\n    </g>\n    <g id=\"text_13\">\n     <!-- Score -->\n     <g transform=\"translate(14.798438 129.922344)rotate(-90)scale(0.1 -0.1)\">\n      <defs>\n       <path d=\"M 53.515625 70.515625 \nL 53.515625 60.890625 \nQ 47.90625 63.578125 42.921875 64.890625 \nQ 37.9375 66.21875 33.296875 66.21875 \nQ 25.25 66.21875 20.875 63.09375 \nQ 16.5 59.96875 16.5 54.203125 \nQ 16.5 49.359375 19.40625 46.890625 \nQ 22.3125 44.4375 30.421875 42.921875 \nL 36.375 41.703125 \nQ 47.40625 39.59375 52.65625 34.296875 \nQ 57.90625 29 57.90625 20.125 \nQ 57.90625 9.515625 50.796875 4.046875 \nQ 43.703125 -1.421875 29.984375 -1.421875 \nQ 24.8125 -1.421875 18.96875 -0.25 \nQ 13.140625 0.921875 6.890625 3.21875 \nL 6.890625 13.375 \nQ 12.890625 10.015625 18.65625 8.296875 \nQ 24.421875 6.59375 29.984375 6.59375 \nQ 38.421875 6.59375 43.015625 9.90625 \nQ 47.609375 13.234375 47.609375 19.390625 \nQ 47.609375 24.75 44.3125 27.78125 \nQ 41.015625 30.8125 33.5 32.328125 \nL 27.484375 33.5 \nQ 16.453125 35.6875 11.515625 40.375 \nQ 6.59375 45.0625 6.59375 53.421875 \nQ 6.59375 63.09375 13.40625 68.65625 \nQ 20.21875 74.21875 32.171875 74.21875 \nQ 37.3125 74.21875 42.625 73.28125 \nQ 47.953125 72.359375 53.515625 70.515625 \nz\n\" id=\"DejaVuSans-83\"/>\n       <path d=\"M 48.78125 52.59375 \nL 48.78125 44.1875 \nQ 44.96875 46.296875 41.140625 47.34375 \nQ 37.3125 48.390625 33.40625 48.390625 \nQ 24.65625 48.390625 19.8125 42.84375 \nQ 14.984375 37.3125 14.984375 27.296875 \nQ 14.984375 17.28125 19.8125 11.734375 \nQ 24.65625 6.203125 33.40625 6.203125 \nQ 37.3125 6.203125 41.140625 7.25 \nQ 44.96875 8.296875 48.78125 10.40625 \nL 48.78125 2.09375 \nQ 45.015625 0.34375 40.984375 -0.53125 \nQ 36.96875 -1.421875 32.421875 -1.421875 \nQ 20.0625 -1.421875 12.78125 6.34375 \nQ 5.515625 14.109375 5.515625 27.296875 \nQ 5.515625 40.671875 12.859375 48.328125 \nQ 20.21875 56 33.015625 56 \nQ 37.15625 56 41.109375 55.140625 \nQ 45.0625 54.296875 48.78125 52.59375 \nz\n\" id=\"DejaVuSans-99\"/>\n       <path d=\"M 41.109375 46.296875 \nQ 39.59375 47.171875 37.8125 47.578125 \nQ 36.03125 48 33.890625 48 \nQ 26.265625 48 22.1875 43.046875 \nQ 18.109375 38.09375 18.109375 28.8125 \nL 18.109375 0 \nL 9.078125 0 \nL 9.078125 54.6875 \nL 18.109375 54.6875 \nL 18.109375 46.1875 \nQ 20.953125 51.171875 25.484375 53.578125 \nQ 30.03125 56 36.53125 56 \nQ 37.453125 56 38.578125 55.875 \nQ 39.703125 55.765625 41.0625 55.515625 \nz\n\" id=\"DejaVuSans-114\"/>\n      </defs>\n      <use xlink:href=\"#DejaVuSans-83\"/>\n      <use x=\"63.476562\" xlink:href=\"#DejaVuSans-99\"/>\n      <use x=\"118.457031\" xlink:href=\"#DejaVuSans-111\"/>\n      <use x=\"179.638672\" xlink:href=\"#DejaVuSans-114\"/>\n      <use x=\"218.501953\" xlink:href=\"#DejaVuSans-101\"/>\n     </g>\n    </g>\n   </g>\n   <g id=\"line2d_12\">\n    <path clip-path=\"url(#p827ff0baf6)\" d=\"M 55.821307 193.577143 \nL 56.159113 179.457662 \nL 56.49692 193.577143 \nL 56.834726 193.577143 \nL 57.172533 207.696623 \nL 57.510339 200.636883 \nL 57.848146 186.517403 \nL 58.523759 200.636883 \nL 58.861565 193.577143 \nL 59.199372 193.577143 \nL 59.537178 200.636883 \nL 59.874985 200.636883 \nL 60.212791 186.517403 \nL 60.550598 200.636883 \nL 61.22621 186.517403 \nL 61.564017 200.636883 \nL 61.901823 193.577143 \nL 62.23963 179.457662 \nL 62.577436 200.636883 \nL 62.915243 193.577143 \nL 63.253049 193.577143 \nL 63.590856 186.517403 \nL 63.928662 200.636883 \nL 64.266469 179.457662 \nL 64.604275 200.636883 \nL 64.942082 214.756364 \nL 65.279888 193.577143 \nL 65.617695 193.577143 \nL 65.955501 179.457662 \nL 66.293308 193.577143 \nL 66.631114 200.636883 \nL 66.968921 186.517403 \nL 67.306727 200.636883 \nL 67.644534 193.577143 \nL 67.98234 165.338182 \nL 68.320146 207.696623 \nL 68.657953 179.457662 \nL 68.995759 179.457662 \nL 69.333566 207.696623 \nL 69.671372 193.577143 \nL 70.009179 172.397922 \nL 70.346985 193.577143 \nL 70.684792 193.577143 \nL 71.022598 200.636883 \nL 71.360405 200.636883 \nL 72.036018 186.517403 \nL 72.373824 200.636883 \nL 72.711631 186.517403 \nL 73.049437 186.517403 \nL 73.387244 193.577143 \nL 74.062857 193.577143 \nL 74.400663 186.517403 \nL 74.73847 172.397922 \nL 75.076276 193.577143 \nL 75.414083 186.517403 \nL 75.751889 193.577143 \nL 76.427502 193.577143 \nL 76.765308 179.457662 \nL 77.103115 200.636883 \nL 77.440921 179.457662 \nL 77.778728 200.636883 \nL 78.116534 186.517403 \nL 78.454341 165.338182 \nL 78.792147 193.577143 \nL 79.129954 200.636883 \nL 79.46776 186.517403 \nL 79.805567 179.457662 \nL 80.143373 193.577143 \nL 80.48118 186.517403 \nL 80.818986 172.397922 \nL 81.156793 186.517403 \nL 81.494599 186.517403 \nL 81.832406 193.577143 \nL 82.170212 186.517403 \nL 82.508019 193.577143 \nL 82.845825 193.577143 \nL 83.183632 186.517403 \nL 83.521438 158.278442 \nL 83.859244 186.517403 \nL 84.197051 172.397922 \nL 84.534857 179.457662 \nL 84.872664 193.577143 \nL 85.21047 186.517403 \nL 85.548277 193.577143 \nL 85.886083 193.577143 \nL 86.22389 179.457662 \nL 86.561696 158.278442 \nL 87.237309 172.397922 \nL 87.575116 186.517403 \nL 87.912922 179.457662 \nL 88.250729 193.577143 \nL 88.588535 186.517403 \nL 88.926342 200.636883 \nL 89.264148 186.517403 \nL 89.601955 179.457662 \nL 89.939761 186.517403 \nL 90.277568 172.397922 \nL 90.615374 193.577143 \nL 90.95318 165.338182 \nL 91.290987 193.577143 \nL 91.628793 186.517403 \nL 91.9666 165.338182 \nL 92.304406 158.278442 \nL 92.642213 172.397922 \nL 92.980019 193.577143 \nL 93.317826 172.397922 \nL 93.655632 172.397922 \nL 93.993439 158.278442 \nL 94.331245 186.517403 \nL 94.669052 186.517403 \nL 95.006858 193.577143 \nL 95.344665 179.457662 \nL 95.682471 186.517403 \nL 96.020278 172.397922 \nL 96.358084 172.397922 \nL 96.695891 158.278442 \nL 97.033697 179.457662 \nL 97.70931 179.457662 \nL 98.047117 172.397922 \nL 98.384923 179.457662 \nL 98.722729 158.278442 \nL 99.060536 179.457662 \nL 99.398342 186.517403 \nL 99.736149 179.457662 \nL 100.073955 200.636883 \nL 100.411762 122.97974 \nL 100.749568 179.457662 \nL 101.087375 151.218701 \nL 101.425181 151.218701 \nL 101.762988 186.517403 \nL 102.100794 158.278442 \nL 102.438601 165.338182 \nL 102.776407 193.577143 \nL 103.114214 193.577143 \nL 103.45202 200.636883 \nL 103.789827 165.338182 \nL 104.127633 165.338182 \nL 104.803246 151.218701 \nL 105.141053 158.278442 \nL 105.478859 158.278442 \nL 105.816666 172.397922 \nL 106.154472 165.338182 \nL 106.492278 165.338182 \nL 106.830085 144.158961 \nL 107.167891 144.158961 \nL 107.843504 115.92 \nL 108.181311 186.517403 \nL 108.856924 144.158961 \nL 109.19473 179.457662 \nL 109.532537 151.218701 \nL 109.870343 144.158961 \nL 110.20815 144.158961 \nL 110.883763 186.517403 \nL 111.221569 115.92 \nL 111.559376 172.397922 \nL 111.897182 158.278442 \nL 112.234989 165.338182 \nL 112.572795 165.338182 \nL 112.910602 179.457662 \nL 113.248408 172.397922 \nL 113.586214 144.158961 \nL 113.924021 151.218701 \nL 114.261827 200.636883 \nL 114.599634 172.397922 \nL 114.93744 158.278442 \nL 115.275247 186.517403 \nL 115.613053 144.158961 \nL 115.95086 172.397922 \nL 116.288666 130.039481 \nL 116.626473 158.278442 \nL 116.964279 172.397922 \nL 117.302086 179.457662 \nL 117.639892 172.397922 \nL 117.977699 158.278442 \nL 118.653312 172.397922 \nL 119.328925 144.158961 \nL 119.666731 165.338182 \nL 120.004538 179.457662 \nL 120.342344 151.218701 \nL 121.017957 179.457662 \nL 121.355763 144.158961 \nL 121.69357 137.099221 \nL 122.031376 186.517403 \nL 122.369183 144.158961 \nL 122.706989 151.218701 \nL 123.044796 137.099221 \nL 123.382602 172.397922 \nL 123.720409 158.278442 \nL 124.058215 130.039481 \nL 124.396022 179.457662 \nL 124.733828 179.457662 \nL 125.071635 151.218701 \nL 125.409441 158.278442 \nL 125.747248 130.039481 \nL 126.085054 151.218701 \nL 126.422861 137.099221 \nL 126.760667 137.099221 \nL 127.098474 165.338182 \nL 127.774087 101.800519 \nL 128.111893 151.218701 \nL 128.4497 165.338182 \nL 128.787506 130.039481 \nL 129.125312 130.039481 \nL 129.463119 165.338182 \nL 129.800925 144.158961 \nL 130.138732 137.099221 \nL 130.476538 165.338182 \nL 130.814345 144.158961 \nL 131.152151 115.92 \nL 131.489958 144.158961 \nL 131.827764 130.039481 \nL 132.165571 165.338182 \nL 132.503377 122.97974 \nL 132.841184 115.92 \nL 133.17899 172.397922 \nL 133.516797 130.039481 \nL 133.854603 130.039481 \nL 134.19241 122.97974 \nL 134.530216 122.97974 \nL 134.868023 108.86026 \nL 135.205829 158.278442 \nL 135.543636 122.97974 \nL 135.881442 122.97974 \nL 136.219248 130.039481 \nL 136.557055 144.158961 \nL 136.894861 172.397922 \nL 137.232668 158.278442 \nL 137.570474 179.457662 \nL 137.908281 137.099221 \nL 138.246087 151.218701 \nL 138.9217 137.099221 \nL 139.259507 151.218701 \nL 139.597313 151.218701 \nL 139.93512 158.278442 \nL 140.272926 130.039481 \nL 140.610733 122.97974 \nL 140.948539 158.278442 \nL 141.286346 172.397922 \nL 141.624152 130.039481 \nL 141.961959 101.800519 \nL 142.299765 151.218701 \nL 142.637572 137.099221 \nL 142.975378 101.800519 \nL 143.313185 108.86026 \nL 143.650991 144.158961 \nL 143.988797 130.039481 \nL 144.326604 151.218701 \nL 144.66441 186.517403 \nL 145.002217 115.92 \nL 145.340023 158.278442 \nL 145.67783 130.039481 \nL 146.015636 130.039481 \nL 146.353443 101.800519 \nL 146.691249 130.039481 \nL 147.029056 137.099221 \nL 147.366862 101.800519 \nL 147.704669 108.86026 \nL 148.042475 108.86026 \nL 148.380282 130.039481 \nL 148.718088 101.800519 \nL 149.055895 151.218701 \nL 149.393701 108.86026 \nL 149.731508 172.397922 \nL 150.069314 108.86026 \nL 150.407121 137.099221 \nL 150.744927 130.039481 \nL 151.082734 151.218701 \nL 151.42054 94.740779 \nL 151.758346 144.158961 \nL 152.096153 158.278442 \nL 152.433959 144.158961 \nL 152.771766 158.278442 \nL 153.109572 137.099221 \nL 153.447379 137.099221 \nL 153.785185 122.97974 \nL 154.122992 144.158961 \nL 154.460798 115.92 \nL 154.798605 115.92 \nL 155.474218 158.278442 \nL 156.149831 87.681039 \nL 156.487637 172.397922 \nL 156.825444 165.338182 \nL 157.16325 130.039481 \nL 157.838863 115.92 \nL 158.17667 130.039481 \nL 158.514476 130.039481 \nL 158.852283 151.218701 \nL 159.190089 144.158961 \nL 159.527895 158.278442 \nL 159.865702 137.099221 \nL 160.203508 108.86026 \nL 160.541315 94.740779 \nL 161.216928 137.099221 \nL 161.554734 115.92 \nL 161.892541 130.039481 \nL 162.230347 122.97974 \nL 162.90596 122.97974 \nL 163.243767 108.86026 \nL 163.91938 158.278442 \nL 164.257186 130.039481 \nL 164.594993 172.397922 \nL 164.932799 137.099221 \nL 165.270606 144.158961 \nL 165.608412 158.278442 \nL 165.946219 144.158961 \nL 166.284025 122.97974 \nL 166.959638 137.099221 \nL 167.297444 130.039481 \nL 167.635251 179.457662 \nL 167.973057 115.92 \nL 168.310864 80.621299 \nL 168.64867 165.338182 \nL 169.324283 87.681039 \nL 169.66209 115.92 \nL 169.999896 165.338182 \nL 170.337703 144.158961 \nL 170.675509 130.039481 \nL 171.013316 73.561558 \nL 171.688929 101.800519 \nL 172.026735 151.218701 \nL 172.364542 101.800519 \nL 172.702348 172.397922 \nL 173.040155 137.099221 \nL 173.377961 137.099221 \nL 173.715768 165.338182 \nL 174.053574 144.158961 \nL 174.39138 137.099221 \nL 174.729187 151.218701 \nL 175.066993 101.800519 \nL 175.4048 151.218701 \nL 175.742606 87.681039 \nL 176.080413 101.800519 \nL 176.418219 108.86026 \nL 176.756026 87.681039 \nL 177.431639 151.218701 \nL 177.769445 130.039481 \nL 178.107252 66.501818 \nL 178.782865 144.158961 \nL 179.120671 151.218701 \nL 179.796284 80.621299 \nL 180.134091 186.517403 \nL 180.471897 80.621299 \nL 180.809704 172.397922 \nL 181.14751 115.92 \nL 181.485317 115.92 \nL 181.823123 137.099221 \nL 182.160929 101.800519 \nL 182.498736 151.218701 \nL 182.836542 165.338182 \nL 183.174349 137.099221 \nL 183.512155 158.278442 \nL 183.849962 87.681039 \nL 184.187768 115.92 \nL 184.525575 108.86026 \nL 184.863381 108.86026 \nL 185.201188 101.800519 \nL 185.538994 137.099221 \nL 185.876801 122.97974 \nL 186.214607 137.099221 \nL 186.552414 101.800519 \nL 186.89022 108.86026 \nL 187.228027 94.740779 \nL 187.565833 101.800519 \nL 187.90364 144.158961 \nL 188.241446 73.561558 \nL 188.579253 122.97974 \nL 188.917059 101.800519 \nL 189.254865 101.800519 \nL 189.592672 66.501818 \nL 189.930478 94.740779 \nL 190.268285 80.621299 \nL 190.943898 130.039481 \nL 191.281704 94.740779 \nL 191.619511 80.621299 \nL 191.957317 115.92 \nL 192.295124 122.97974 \nL 192.63293 87.681039 \nL 192.970737 94.740779 \nL 193.308543 108.86026 \nL 193.64635 80.621299 \nL 193.984156 94.740779 \nL 194.321963 101.800519 \nL 194.659769 122.97974 \nL 194.997576 80.621299 \nL 195.335382 73.561558 \nL 195.673189 45.322597 \nL 196.010995 151.218701 \nL 196.686608 59.442078 \nL 197.024414 101.800519 \nL 197.362221 122.97974 \nL 197.700027 87.681039 \nL 198.037834 137.099221 \nL 198.37564 108.86026 \nL 198.713447 94.740779 \nL 199.051253 108.86026 \nL 199.38906 137.099221 \nL 199.726866 101.800519 \nL 200.064673 101.800519 \nL 200.402479 122.97974 \nL 200.740286 59.442078 \nL 201.078092 87.681039 \nL 201.415899 101.800519 \nL 201.753705 144.158961 \nL 202.091512 130.039481 \nL 202.429318 108.86026 \nL 202.767125 80.621299 \nL 203.442738 108.86026 \nL 203.780544 144.158961 \nL 204.118351 80.621299 \nL 204.456157 101.800519 \nL 204.793963 101.800519 \nL 205.13177 122.97974 \nL 205.469576 52.382338 \nL 205.807383 179.457662 \nL 206.145189 94.740779 \nL 206.482996 108.86026 \nL 206.820802 115.92 \nL 207.158609 101.800519 \nL 207.496415 108.86026 \nL 207.834222 45.322597 \nL 208.172028 94.740779 \nL 208.509835 108.86026 \nL 208.847641 115.92 \nL 209.185448 87.681039 \nL 209.523254 144.158961 \nL 209.861061 73.561558 \nL 210.198867 101.800519 \nL 210.536674 101.800519 \nL 210.87448 80.621299 \nL 211.212287 94.740779 \nL 211.550093 137.099221 \nL 211.887899 108.86026 \nL 212.225706 115.92 \nL 212.563512 115.92 \nL 212.901319 87.681039 \nL 213.239125 101.800519 \nL 213.576932 108.86026 \nL 213.914738 94.740779 \nL 214.252545 87.681039 \nL 214.590351 101.800519 \nL 216.279384 101.800519 \nL 216.61719 80.621299 \nL 216.954997 158.278442 \nL 217.292803 151.218701 \nL 217.63061 151.218701 \nL 217.968416 101.800519 \nL 218.306223 87.681039 \nL 218.644029 101.800519 \nL 218.981836 94.740779 \nL 219.319642 122.97974 \nL 219.657448 94.740779 \nL 219.995255 101.800519 \nL 220.333061 45.322597 \nL 220.670868 80.621299 \nL 221.008674 87.681039 \nL 221.346481 108.86026 \nL 221.684287 73.561558 \nL 222.022094 108.86026 \nL 222.3599 80.621299 \nL 223.035513 94.740779 \nL 223.37332 115.92 \nL 224.048933 59.442078 \nL 224.386739 87.681039 \nL 224.724546 87.681039 \nL 225.062352 80.621299 \nL 225.400159 151.218701 \nL 225.737965 144.158961 \nL 226.075772 94.740779 \nL 226.413578 108.86026 \nL 226.751385 73.561558 \nL 227.089191 130.039481 \nL 227.426997 115.92 \nL 227.764804 94.740779 \nL 228.10261 101.800519 \nL 228.440417 87.681039 \nL 229.11603 87.681039 \nL 229.453836 101.800519 \nL 229.791643 94.740779 \nL 230.129449 108.86026 \nL 230.467256 94.740779 \nL 230.805062 73.561558 \nL 231.142869 101.800519 \nL 231.818482 101.800519 \nL 232.156288 80.621299 \nL 232.494095 87.681039 \nL 232.831901 101.800519 \nL 233.169708 52.382338 \nL 233.845321 158.278442 \nL 234.183127 165.338182 \nL 234.520933 87.681039 \nL 235.534353 66.501818 \nL 235.872159 94.740779 \nL 236.209966 73.561558 \nL 236.547772 38.262857 \nL 236.885579 101.800519 \nL 237.223385 94.740779 \nL 237.561192 45.322597 \nL 237.898998 87.681039 \nL 238.236805 101.800519 \nL 238.574611 94.740779 \nL 238.912418 31.203117 \nL 239.250224 101.800519 \nL 239.925837 73.561558 \nL 240.263644 130.039481 \nL 240.60145 80.621299 \nL 240.939257 101.800519 \nL 241.277063 73.561558 \nL 241.61487 73.561558 \nL 241.952676 38.262857 \nL 242.290482 130.039481 \nL 242.628289 87.681039 \nL 242.966095 73.561558 \nL 243.641708 87.681039 \nL 243.979515 108.86026 \nL 244.317321 122.97974 \nL 244.655128 108.86026 \nL 244.992934 45.322597 \nL 245.330741 45.322597 \nL 245.668547 137.099221 \nL 246.006354 31.203117 \nL 246.34416 108.86026 \nL 247.019773 108.86026 \nL 247.35758 59.442078 \nL 247.695386 101.800519 \nL 248.033193 94.740779 \nL 248.370999 94.740779 \nL 248.708806 66.501818 \nL 249.046612 87.681039 \nL 249.384419 101.800519 \nL 249.722225 108.86026 \nL 250.060031 130.039481 \nL 250.397838 66.501818 \nL 250.735644 130.039481 \nL 251.073451 151.218701 \nL 251.411257 52.382338 \nL 251.749064 31.203117 \nL 252.08687 122.97974 \nL 252.424677 87.681039 \nL 252.762483 66.501818 \nL 253.10029 31.203117 \nL 253.438096 101.800519 \nL 253.775903 87.681039 \nL 254.113709 59.442078 \nL 254.451516 66.501818 \nL 254.789322 80.621299 \nL 255.127129 108.86026 \nL 255.464935 122.97974 \nL 255.802742 101.800519 \nL 256.140548 73.561558 \nL 256.478355 87.681039 \nL 256.816161 80.621299 \nL 257.153967 87.681039 \nL 257.491774 87.681039 \nL 257.82958 52.382338 \nL 258.167387 151.218701 \nL 258.505193 115.92 \nL 258.843 151.218701 \nL 259.180806 108.86026 \nL 259.518613 94.740779 \nL 259.856419 73.561558 \nL 260.194226 94.740779 \nL 260.532032 130.039481 \nL 260.869839 115.92 \nL 261.207645 94.740779 \nL 261.545452 87.681039 \nL 261.883258 52.382338 \nL 262.221065 94.740779 \nL 262.558871 80.621299 \nL 262.896678 130.039481 \nL 263.234484 122.97974 \nL 263.572291 66.501818 \nL 263.910097 101.800519 \nL 264.247904 66.501818 \nL 264.58571 80.621299 \nL 264.923516 101.800519 \nL 265.261323 101.800519 \nL 265.599129 115.92 \nL 265.936936 101.800519 \nL 266.274742 59.442078 \nL 266.612549 108.86026 \nL 267.288162 24.143377 \nL 267.625968 87.681039 \nL 267.963775 87.681039 \nL 268.301581 80.621299 \nL 268.639388 137.099221 \nL 268.977194 94.740779 \nL 269.315001 24.143377 \nL 269.652807 73.561558 \nL 269.990614 151.218701 \nL 270.32842 73.561558 \nL 270.666227 59.442078 \nL 271.004033 94.740779 \nL 271.34184 94.740779 \nL 271.679646 87.681039 \nL 272.017453 73.561558 \nL 272.355259 108.86026 \nL 272.693065 66.501818 \nL 273.030872 66.501818 \nL 273.368678 80.621299 \nL 273.706485 52.382338 \nL 274.044291 108.86026 \nL 274.382098 45.322597 \nL 274.719904 59.442078 \nL 275.057711 108.86026 \nL 275.395517 80.621299 \nL 275.733324 87.681039 \nL 276.07113 87.681039 \nL 276.408937 137.099221 \nL 276.746743 73.561558 \nL 277.08455 87.681039 \nL 277.422356 80.621299 \nL 277.760163 45.322597 \nL 278.097969 101.800519 \nL 278.435776 80.621299 \nL 278.773582 130.039481 \nL 279.111389 101.800519 \nL 279.449195 130.039481 \nL 279.787002 52.382338 \nL 280.124808 108.86026 \nL 280.462614 108.86026 \nL 280.800421 130.039481 \nL 281.138227 87.681039 \nL 281.476034 80.621299 \nL 281.81384 87.681039 \nL 282.151647 115.92 \nL 282.82726 52.382338 \nL 283.165066 101.800519 \nL 283.502873 115.92 \nL 283.840679 52.382338 \nL 284.178486 80.621299 \nL 284.516292 66.501818 \nL 284.854099 108.86026 \nL 285.191905 80.621299 \nL 285.529712 151.218701 \nL 285.867518 101.800519 \nL 286.205325 87.681039 \nL 286.543131 94.740779 \nL 287.218744 94.740779 \nL 287.55655 115.92 \nL 287.894357 172.397922 \nL 288.232163 101.800519 \nL 288.56997 59.442078 \nL 288.907776 73.561558 \nL 289.245583 151.218701 \nL 289.583389 94.740779 \nL 289.921196 59.442078 \nL 290.259002 66.501818 \nL 290.934615 66.501818 \nL 291.272422 108.86026 \nL 291.610228 108.86026 \nL 292.285841 94.740779 \nL 292.623648 122.97974 \nL 292.961454 73.561558 \nL 293.299261 101.800519 \nL 293.637067 80.621299 \nL 293.974874 73.561558 \nL 294.31268 52.382338 \nL 294.650487 80.621299 \nL 294.988293 94.740779 \nL 295.326099 38.262857 \nL 296.001712 101.800519 \nL 296.339519 108.86026 \nL 296.677325 101.800519 \nL 297.015132 80.621299 \nL 297.352938 80.621299 \nL 297.690745 101.800519 \nL 298.028551 101.800519 \nL 298.366358 115.92 \nL 298.704164 108.86026 \nL 299.041971 52.382338 \nL 299.379777 94.740779 \nL 299.717584 115.92 \nL 300.05539 59.442078 \nL 300.393197 52.382338 \nL 300.731003 94.740779 \nL 301.06881 73.561558 \nL 301.406616 108.86026 \nL 301.744423 66.501818 \nL 302.082229 122.97974 \nL 302.420036 66.501818 \nL 302.757842 108.86026 \nL 303.095648 87.681039 \nL 303.433455 87.681039 \nL 303.771261 94.740779 \nL 304.109068 80.621299 \nL 304.446874 80.621299 \nL 304.784681 115.92 \nL 305.122487 122.97974 \nL 305.460294 94.740779 \nL 305.7981 165.338182 \nL 306.135907 115.92 \nL 306.81152 52.382338 \nL 307.149326 94.740779 \nL 307.487133 108.86026 \nL 307.824939 94.740779 \nL 308.162746 66.501818 \nL 308.500552 66.501818 \nL 308.838359 94.740779 \nL 309.176165 17.083636 \nL 309.513972 31.203117 \nL 309.851778 66.501818 \nL 310.189584 38.262857 \nL 310.865197 165.338182 \nL 311.203004 38.262857 \nL 311.54081 59.442078 \nL 311.878617 59.442078 \nL 312.216423 101.800519 \nL 312.55423 73.561558 \nL 312.892036 59.442078 \nL 313.229843 151.218701 \nL 313.567649 73.561558 \nL 313.905456 94.740779 \nL 314.243262 137.099221 \nL 314.581069 73.561558 \nL 314.918875 80.621299 \nL 315.256682 108.86026 \nL 315.594488 45.322597 \nL 315.932295 144.158961 \nL 316.270101 87.681039 \nL 316.607908 130.039481 \nL 316.945714 73.561558 \nL 317.283521 38.262857 \nL 317.621327 52.382338 \nL 317.959133 101.800519 \nL 318.29694 45.322597 \nL 318.634746 130.039481 \nL 318.972553 122.97974 \nL 319.310359 52.382338 \nL 319.648166 66.501818 \nL 319.985972 108.86026 \nL 320.323779 101.800519 \nL 320.661585 52.382338 \nL 320.999392 31.203117 \nL 321.675005 151.218701 \nL 322.012811 87.681039 \nL 322.350618 73.561558 \nL 322.688424 122.97974 \nL 323.026231 80.621299 \nL 323.364037 108.86026 \nL 323.701844 66.501818 \nL 324.03965 87.681039 \nL 324.377457 151.218701 \nL 324.715263 101.800519 \nL 325.05307 165.338182 \nL 325.390876 94.740779 \nL 325.728682 108.86026 \nL 326.066489 115.92 \nL 326.404295 108.86026 \nL 326.742102 108.86026 \nL 327.417715 38.262857 \nL 327.755521 38.262857 \nL 328.093328 45.322597 \nL 328.431134 87.681039 \nL 328.768941 52.382338 \nL 329.106747 66.501818 \nL 329.444554 101.800519 \nL 329.78236 52.382338 \nL 330.120167 73.561558 \nL 330.457973 108.86026 \nL 330.79578 52.382338 \nL 331.133586 94.740779 \nL 331.471393 45.322597 \nL 331.809199 52.382338 \nL 332.147006 31.203117 \nL 332.484812 80.621299 \nL 332.822618 101.800519 \nL 333.836038 80.621299 \nL 334.173844 115.92 \nL 334.849457 66.501818 \nL 335.187264 73.561558 \nL 335.52507 66.501818 \nL 335.862877 73.561558 \nL 336.200683 73.561558 \nL 336.53849 66.501818 \nL 336.876296 31.203117 \nL 337.889716 108.86026 \nL 338.227522 130.039481 \nL 338.565329 87.681039 \nL 338.903135 59.442078 \nL 339.240942 80.621299 \nL 339.578748 52.382338 \nL 339.916555 73.561558 \nL 340.254361 73.561558 \nL 340.592167 115.92 \nL 340.929974 59.442078 \nL 341.26778 80.621299 \nL 341.605587 80.621299 \nL 341.943393 94.740779 \nL 342.2812 101.800519 \nL 342.619006 87.681039 \nL 342.956813 101.800519 \nL 343.294619 101.800519 \nL 343.632426 52.382338 \nL 343.970232 108.86026 \nL 344.308039 87.681039 \nL 344.983652 101.800519 \nL 345.321458 45.322597 \nL 345.659265 80.621299 \nL 345.997071 137.099221 \nL 346.334878 59.442078 \nL 346.672684 80.621299 \nL 347.010491 52.382338 \nL 347.348297 52.382338 \nL 347.686104 80.621299 \nL 348.02391 66.501818 \nL 348.361716 101.800519 \nL 348.699523 108.86026 \nL 349.037329 130.039481 \nL 349.375136 80.621299 \nL 349.712942 80.621299 \nL 350.050749 151.218701 \nL 350.388555 108.86026 \nL 350.726362 45.322597 \nL 351.064168 73.561558 \nL 351.401975 59.442078 \nL 351.739781 59.442078 \nL 352.077588 108.86026 \nL 352.415394 59.442078 \nL 352.753201 66.501818 \nL 353.091007 59.442078 \nL 353.428814 59.442078 \nL 353.76662 80.621299 \nL 354.104427 73.561558 \nL 354.442233 87.681039 \nL 354.78004 158.278442 \nL 355.117846 108.86026 \nL 355.455652 87.681039 \nL 355.793459 87.681039 \nL 356.131265 59.442078 \nL 356.469072 80.621299 \nL 356.806878 73.561558 \nL 357.144685 59.442078 \nL 357.482491 179.457662 \nL 357.820298 80.621299 \nL 358.158104 108.86026 \nL 358.495911 52.382338 \nL 358.833717 59.442078 \nL 359.171524 130.039481 \nL 359.50933 45.322597 \nL 359.847137 101.800519 \nL 360.184943 38.262857 \nL 360.184943 38.262857 \n\" style=\"fill:none;stroke:#1f77b4;stroke-linecap:square;stroke-width:1.5;\"/>\n   </g>\n   <g id=\"patch_3\">\n    <path d=\"M 40.603125 224.64 \nL 40.603125 7.2 \n\" style=\"fill:none;stroke:#000000;stroke-linecap:square;stroke-linejoin:miter;stroke-width:0.8;\"/>\n   </g>\n   <g id=\"patch_4\">\n    <path d=\"M 375.403125 224.64 \nL 375.403125 7.2 \n\" style=\"fill:none;stroke:#000000;stroke-linecap:square;stroke-linejoin:miter;stroke-width:0.8;\"/>\n   </g>\n   <g id=\"patch_5\">\n    <path d=\"M 40.603125 224.64 \nL 375.403125 224.64 \n\" style=\"fill:none;stroke:#000000;stroke-linecap:square;stroke-linejoin:miter;stroke-width:0.8;\"/>\n   </g>\n   <g id=\"patch_6\">\n    <path d=\"M 40.603125 7.2 \nL 375.403125 7.2 \n\" style=\"fill:none;stroke:#000000;stroke-linecap:square;stroke-linejoin:miter;stroke-width:0.8;\"/>\n   </g>\n  </g>\n </g>\n <defs>\n  <clipPath id=\"p827ff0baf6\">\n   <rect height=\"217.44\" width=\"334.8\" x=\"40.603125\" y=\"7.2\"/>\n  </clipPath>\n </defs>\n</svg>\n",
      "image/png": "[encoded data removed]"
     },
     "metadata": {
      "needs_background": "light"
     }
    }
   ],
   "source": [
    "from dqn_agent import Agent\n",
    "env = UnityEnvironment(file_name=\"Banana.app\")\n",
    "brain_name = env.brain_names[0]\n",
    "brain = env.brains[brain_name]\n",
    "\n",
    "agent = Agent(state_size=37, action_size=4, seed=0)\n",
    "\n",
    "def dqn(n_episodes=2000, max_t=1000, eps_start=1.0, eps_end=0.01, eps_decay=0.995):\n",
    "    \"\"\"Deep Q-Learning.\n",
    "    \n",
    "    Params\n",
    "    ======\n",
    "        n_episodes (int): maximum number of training episodes\n",
    "        max_t (int): maximum number of timesteps per episode\n",
    "        eps_start (float): starting value of epsilon, for epsilon-greedy action selection\n",
    "        eps_end (float): minimum value of epsilon\n",
    "        eps_decay (float): multiplicative factor (per episode) for decreasing epsilon\n",
    "    \"\"\"\n",
    "    scores = []                        # list containing scores from each episode\n",
    "    scores_window = deque(maxlen=100)  # last 100 scores\n",
    "    eps = eps_start    \n",
    "    max_score = 0                # initialize epsilon\n",
    "    for i_episode in range(1, n_episodes+1):\n",
    "        env_info = env.reset(train_mode=True)[brain_name]\n",
    "        state = env_info.vector_observations[0]\n",
    "        score = 0\n",
    "        for t in range(max_t):\n",
    "            action = agent.act(state, eps)\n",
    "            env_info = env.step(action)[brain_name]\n",
    "            next_state = env_info.vector_observations[0]   \n",
    "            reward = env_info.rewards[0]                   \n",
    "            done = env_info.local_done[0] \n",
    "\n",
    "            agent.step(state, action, reward, next_state, done)\n",
    "            state = next_state\n",
    "            score += reward\n",
    "            if done:\n",
    "                break \n",
    "        scores_window.append(score)       # save most recent score\n",
    "        scores.append(score)              # save most recent score\n",
    "        eps = max(eps_end, eps_decay*eps) # decrease epsilon\n",
    "        print('\\rEpisode {}\\tAverage Score: {:.2f}'.format(i_episode, np.mean(scores_window)), end=\"\")\n",
    "        if i_episode % 100 == 0:\n",
    "            print('\\rEpisode {}\\tAverage Score: {:.2f}'.format(i_episode, np.mean(scores_window)))\n",
    "        if np.mean(scores_window)>=max_score and np.mean(scores_window) > 16.0:\n",
    "            max_score = np.mean(scores_window)\n",
    "            print('\\nEnvironment solved in {:d} episodes!\\tAverage Score: {:.2f}'.format(i_episode-100, np.mean(scores_window)))\n",
    "            torch.save(agent.qnetwork_local.state_dict(), 'checkpoint.pth')\n",
    "    return scores\n",
    "\n",
    "scores = dqn()\n",
    "\n",
    "# plot the scores\n",
    "fig = plt.figure()\n",
    "ax = fig.add_subplot(111)\n",
    "plt.plot(np.arange(len(scores)), scores)\n",
    "plt.ylabel('Score')\n",
    "plt.xlabel('Episode #')\n",
    "plt.show()"
   ]
  },
  {
   "cell_type": "code",
   "execution_count": 7,
   "metadata": {},
   "outputs": [
    {
     "output_type": "error",
     "ename": "UnityEnvironmentException",
     "evalue": "No Unity environment is loaded.",
     "traceback": [
      "\u001b[0;31m---------------------------------------------------------------------------\u001b[0m",
      "\u001b[0;31mUnityEnvironmentException\u001b[0m                 Traceback (most recent call last)",
      "\u001b[0;32m<ipython-input-7-1baceacf4cb1>\u001b[0m in \u001b[0;36m<module>\u001b[0;34m\u001b[0m\n\u001b[0;32m----> 1\u001b[0;31m \u001b[0menv\u001b[0m\u001b[0;34m.\u001b[0m\u001b[0mclose\u001b[0m\u001b[0;34m(\u001b[0m\u001b[0;34m)\u001b[0m\u001b[0;34m\u001b[0m\u001b[0;34m\u001b[0m\u001b[0m\n\u001b[0m",
      "\u001b[0;32m~/opt/anaconda3/envs/drlnd/lib/python3.6/site-packages/unityagents/environment.py\u001b[0m in \u001b[0;36mclose\u001b[0;34m(self)\u001b[0m\n\u001b[1;32m    392\u001b[0m             \u001b[0mself\u001b[0m\u001b[0;34m.\u001b[0m\u001b[0m_close\u001b[0m\u001b[0;34m(\u001b[0m\u001b[0;34m)\u001b[0m\u001b[0;34m\u001b[0m\u001b[0;34m\u001b[0m\u001b[0m\n\u001b[1;32m    393\u001b[0m         \u001b[0;32melse\u001b[0m\u001b[0;34m:\u001b[0m\u001b[0;34m\u001b[0m\u001b[0;34m\u001b[0m\u001b[0m\n\u001b[0;32m--> 394\u001b[0;31m             \u001b[0;32mraise\u001b[0m \u001b[0mUnityEnvironmentException\u001b[0m\u001b[0;34m(\u001b[0m\u001b[0;34m\"No Unity environment is loaded.\"\u001b[0m\u001b[0;34m)\u001b[0m\u001b[0;34m\u001b[0m\u001b[0;34m\u001b[0m\u001b[0m\n\u001b[0m\u001b[1;32m    395\u001b[0m \u001b[0;34m\u001b[0m\u001b[0m\n\u001b[1;32m    396\u001b[0m     \u001b[0;32mdef\u001b[0m \u001b[0m_close\u001b[0m\u001b[0;34m(\u001b[0m\u001b[0mself\u001b[0m\u001b[0;34m)\u001b[0m\u001b[0;34m:\u001b[0m\u001b[0;34m\u001b[0m\u001b[0;34m\u001b[0m\u001b[0m\n",
      "\u001b[0;31mUnityEnvironmentException\u001b[0m: No Unity environment is loaded."
     ]
    }
   ],
   "source": [
    "env.close()"
   ]
  },
  {
   "cell_type": "code",
   "execution_count": 2,
   "metadata": {},
   "outputs": [
    {
     "output_type": "stream",
     "name": "stderr",
     "text": [
      "INFO:unityagents:\n",
      "'Academy' started successfully!\n",
      "Unity Academy name: Academy\n",
      "        Number of Brains: 1\n",
      "        Number of External Brains : 1\n",
      "        Lesson number : 0\n",
      "        Reset Parameters :\n",
      "\t\t\n",
      "Unity brain name: BananaBrain\n",
      "        Number of Visual Observations (per agent): 0\n",
      "        Vector Observation space type: continuous\n",
      "        Vector Observation space size (per agent): 37\n",
      "        Number of stacked Vector Observation: 1\n",
      "        Vector Action space type: discrete\n",
      "        Vector Action space size (per agent): 4\n",
      "        Vector Action descriptions: , , , \n",
      "Mean Score:  8.333333333333334\n",
      "Scores:  [9.0, 5.0, 11.0]\n"
     ]
    }
   ],
   "source": [
    "from dqn_agent import Agent\n",
    "env = UnityEnvironment(file_name=\"Banana.app\")\n",
    "brain_name = env.brain_names[0]\n",
    "brain = env.brains[brain_name]\n",
    "\n",
    "agent = Agent(state_size=37, action_size=4, seed=0)\n",
    "\n",
    "# load the weights from file\n",
    "agent.qnetwork_local.load_state_dict(torch.load('checkpoint.pth'))\n",
    "\n",
    "scores = []\n",
    "for i in range(3):\n",
    "    env_info = env.reset(train_mode=True)[brain_name]\n",
    "    state = env_info.vector_observations[0]\n",
    "    score = 0\n",
    "    for j in range(200):\n",
    "        action = agent.act(state)\n",
    "        \n",
    "        env_info = env.step(action)[brain_name]\n",
    "        state = env_info.vector_observations[0]   \n",
    "        reward = env_info.rewards[0]                   \n",
    "        done = env_info.local_done[0] \n",
    "        score += reward\n",
    "        if done:\n",
    "            break \n",
    "    scores.append(score)\n",
    "print(\"Mean Score: \", np.mean(scores))\n",
    "print(\"Scores: \", scores)\n",
    "            \n",
    "env.close()"
   ]
  },
  {
   "cell_type": "code",
   "execution_count": null,
   "metadata": {},
   "outputs": [],
   "source": []
  }
 ],
 "metadata": {
  "kernelspec": {
   "name": "python3",
   "display_name": "Python 3.6.12 64-bit",
   "metadata": {
    "interpreter": {
     "hash": "1fdfdc1acf9235af4b3c7e138aec2a9ce3d02a649a5c0932c593251a1450727f"
    }
   }
  },
  "language_info": {
   "codemirror_mode": {
    "name": "ipython",
    "version": 3
   },
   "file_extension": ".py",
   "mimetype": "text/x-python",
   "name": "python",
   "nbconvert_exporter": "python",
   "pygments_lexer": "ipython3",
   "version": "3.6.12-final"
  }
 },
 "nbformat": 4,
 "nbformat_minor": 2
}